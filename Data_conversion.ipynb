{
 "cells": [
  {
   "cell_type": "code",
   "execution_count": 1,
   "metadata": {},
   "outputs": [
    {
     "name": "stderr",
     "output_type": "stream",
     "text": [
      "c:\\Users\\harsh\\anaconda3\\envs\\nilmtk-env\\lib\\site-packages\\tqdm\\auto.py:21: TqdmWarning: IProgress not found. Please update jupyter and ipywidgets. See https://ipywidgets.readthedocs.io/en/stable/user_install.html\n",
      "  from .autonotebook import tqdm as notebook_tqdm\n"
     ]
    }
   ],
   "source": [
    "import pandas as pd\n",
    "import numpy as np\n",
    "import matplotlib.pyplot as plt\n",
    "import datasets"
   ]
  },
  {
   "cell_type": "code",
   "execution_count": 2,
   "metadata": {},
   "outputs": [
    {
     "data": {
      "text/plain": [
       "MeterGroup(meters=\n",
       "  ElecMeter(instance=1, building=1, dataset='REDD', site_meter, appliances=[])\n",
       "  ElecMeter(instance=2, building=1, dataset='REDD', site_meter, appliances=[])\n",
       "  ElecMeter(instance=5, building=1, dataset='REDD', appliances=[Appliance(type='fridge', instance=1)])\n",
       "  ElecMeter(instance=6, building=1, dataset='REDD', appliances=[Appliance(type='dish washer', instance=1)])\n",
       "  ElecMeter(instance=7, building=1, dataset='REDD', appliances=[Appliance(type='sockets', instance=1)])\n",
       "  ElecMeter(instance=8, building=1, dataset='REDD', appliances=[Appliance(type='sockets', instance=2)])\n",
       "  ElecMeter(instance=9, building=1, dataset='REDD', appliances=[Appliance(type='light', instance=1)])\n",
       "  ElecMeter(instance=11, building=1, dataset='REDD', appliances=[Appliance(type='microwave', instance=1)])\n",
       "  ElecMeter(instance=12, building=1, dataset='REDD', appliances=[Appliance(type='unknown', instance=1)])\n",
       "  ElecMeter(instance=13, building=1, dataset='REDD', appliances=[Appliance(type='electric space heater', instance=1)])\n",
       "  ElecMeter(instance=14, building=1, dataset='REDD', appliances=[Appliance(type='electric stove', instance=1)])\n",
       "  ElecMeter(instance=15, building=1, dataset='REDD', appliances=[Appliance(type='sockets', instance=3)])\n",
       "  ElecMeter(instance=16, building=1, dataset='REDD', appliances=[Appliance(type='sockets', instance=4)])\n",
       "  ElecMeter(instance=17, building=1, dataset='REDD', appliances=[Appliance(type='light', instance=2)])\n",
       "  ElecMeter(instance=18, building=1, dataset='REDD', appliances=[Appliance(type='light', instance=3)])\n",
       "  ElecMeter(instance=19, building=1, dataset='REDD', appliances=[Appliance(type='unknown', instance=2)])\n",
       "  MeterGroup(meters=\n",
       "    ElecMeter(instance=3, building=1, dataset='REDD', appliances=[Appliance(type='electric oven', instance=1)])\n",
       "    ElecMeter(instance=4, building=1, dataset='REDD', appliances=[Appliance(type='electric oven', instance=1)])\n",
       "  )\n",
       "  MeterGroup(meters=\n",
       "    ElecMeter(instance=10, building=1, dataset='REDD', appliances=[Appliance(type='washer dryer', instance=1)])\n",
       "    ElecMeter(instance=20, building=1, dataset='REDD', appliances=[Appliance(type='washer dryer', instance=1)])\n",
       "  )\n",
       ")"
      ]
     },
     "execution_count": 2,
     "metadata": {},
     "output_type": "execute_result"
    }
   ],
   "source": [
    "from nilmtk.dataset import DataSet\n",
    "redd = DataSet('redd.h5')\n",
    "building = redd.buildings[1]\n",
    "main_meter = building.elec.mains()\n",
    "building.elec"
   ]
  },
  {
   "cell_type": "code",
   "execution_count": 3,
   "metadata": {},
   "outputs": [
    {
     "name": "stdout",
     "output_type": "stream",
     "text": [
      "Loading data for meter ElecMeterID(instance=20, building=1, dataset='REDD')     \n",
      "Done loading data all meters for this chunk.\n",
      "Loading data for meter ElecMeterID(instance=2, building=1, dataset='REDD')     \n",
      "Done loading data all meters for this chunk.\n"
     ]
    },
    {
     "data": {
      "text/html": [
       "<div>\n",
       "<style scoped>\n",
       "    .dataframe tbody tr th:only-of-type {\n",
       "        vertical-align: middle;\n",
       "    }\n",
       "\n",
       "    .dataframe tbody tr th {\n",
       "        vertical-align: top;\n",
       "    }\n",
       "\n",
       "    .dataframe thead th {\n",
       "        text-align: right;\n",
       "    }\n",
       "</style>\n",
       "<table border=\"1\" class=\"dataframe\">\n",
       "  <thead>\n",
       "    <tr style=\"text-align: right;\">\n",
       "      <th></th>\n",
       "      <th>index</th>\n",
       "      <th>total_power</th>\n",
       "      <th>fridge</th>\n",
       "      <th>dish washer</th>\n",
       "      <th>washer dryer</th>\n",
       "      <th>sockets</th>\n",
       "      <th>light</th>\n",
       "    </tr>\n",
       "  </thead>\n",
       "  <tbody>\n",
       "    <tr>\n",
       "      <th>0</th>\n",
       "      <td>2011-04-18 09:22:30-04:00</td>\n",
       "      <td>341.660004</td>\n",
       "      <td>6.0</td>\n",
       "      <td>0.0</td>\n",
       "      <td>0.0</td>\n",
       "      <td>33.0</td>\n",
       "      <td>81.0</td>\n",
       "    </tr>\n",
       "    <tr>\n",
       "      <th>1</th>\n",
       "      <td>2011-04-18 09:22:33-04:00</td>\n",
       "      <td>341.839996</td>\n",
       "      <td>6.0</td>\n",
       "      <td>0.0</td>\n",
       "      <td>0.0</td>\n",
       "      <td>34.0</td>\n",
       "      <td>81.0</td>\n",
       "    </tr>\n",
       "    <tr>\n",
       "      <th>2</th>\n",
       "      <td>2011-04-18 09:22:51-04:00</td>\n",
       "      <td>346.459991</td>\n",
       "      <td>6.0</td>\n",
       "      <td>1.0</td>\n",
       "      <td>0.0</td>\n",
       "      <td>39.0</td>\n",
       "      <td>82.0</td>\n",
       "    </tr>\n",
       "    <tr>\n",
       "      <th>3</th>\n",
       "      <td>2011-04-18 09:22:54-04:00</td>\n",
       "      <td>340.330017</td>\n",
       "      <td>6.0</td>\n",
       "      <td>0.0</td>\n",
       "      <td>0.0</td>\n",
       "      <td>34.0</td>\n",
       "      <td>81.0</td>\n",
       "    </tr>\n",
       "    <tr>\n",
       "      <th>4</th>\n",
       "      <td>2011-04-18 09:23:33-04:00</td>\n",
       "      <td>344.459991</td>\n",
       "      <td>6.0</td>\n",
       "      <td>0.0</td>\n",
       "      <td>0.0</td>\n",
       "      <td>38.0</td>\n",
       "      <td>82.0</td>\n",
       "    </tr>\n",
       "    <tr>\n",
       "      <th>...</th>\n",
       "      <td>...</td>\n",
       "      <td>...</td>\n",
       "      <td>...</td>\n",
       "      <td>...</td>\n",
       "      <td>...</td>\n",
       "      <td>...</td>\n",
       "      <td>...</td>\n",
       "    </tr>\n",
       "    <tr>\n",
       "      <th>136506</th>\n",
       "      <td>2011-05-24 15:55:45-04:00</td>\n",
       "      <td>275.059998</td>\n",
       "      <td>187.0</td>\n",
       "      <td>0.0</td>\n",
       "      <td>0.0</td>\n",
       "      <td>24.0</td>\n",
       "      <td>2.0</td>\n",
       "    </tr>\n",
       "    <tr>\n",
       "      <th>136507</th>\n",
       "      <td>2011-05-24 15:56:03-04:00</td>\n",
       "      <td>273.489990</td>\n",
       "      <td>187.0</td>\n",
       "      <td>1.0</td>\n",
       "      <td>0.0</td>\n",
       "      <td>26.0</td>\n",
       "      <td>2.0</td>\n",
       "    </tr>\n",
       "    <tr>\n",
       "      <th>136508</th>\n",
       "      <td>2011-05-24 15:56:06-04:00</td>\n",
       "      <td>273.140015</td>\n",
       "      <td>188.0</td>\n",
       "      <td>0.0</td>\n",
       "      <td>0.0</td>\n",
       "      <td>24.0</td>\n",
       "      <td>2.0</td>\n",
       "    </tr>\n",
       "    <tr>\n",
       "      <th>136509</th>\n",
       "      <td>2011-05-24 15:56:27-04:00</td>\n",
       "      <td>274.070007</td>\n",
       "      <td>190.0</td>\n",
       "      <td>0.0</td>\n",
       "      <td>0.0</td>\n",
       "      <td>24.0</td>\n",
       "      <td>2.0</td>\n",
       "    </tr>\n",
       "    <tr>\n",
       "      <th>136510</th>\n",
       "      <td>2011-05-24 15:56:30-04:00</td>\n",
       "      <td>274.750000</td>\n",
       "      <td>189.0</td>\n",
       "      <td>0.0</td>\n",
       "      <td>0.0</td>\n",
       "      <td>24.0</td>\n",
       "      <td>2.0</td>\n",
       "    </tr>\n",
       "  </tbody>\n",
       "</table>\n",
       "<p>136511 rows × 7 columns</p>\n",
       "</div>"
      ],
      "text/plain": [
       "                           index  total_power  fridge  dish washer  \\\n",
       "0      2011-04-18 09:22:30-04:00   341.660004     6.0          0.0   \n",
       "1      2011-04-18 09:22:33-04:00   341.839996     6.0          0.0   \n",
       "2      2011-04-18 09:22:51-04:00   346.459991     6.0          1.0   \n",
       "3      2011-04-18 09:22:54-04:00   340.330017     6.0          0.0   \n",
       "4      2011-04-18 09:23:33-04:00   344.459991     6.0          0.0   \n",
       "...                          ...          ...     ...          ...   \n",
       "136506 2011-05-24 15:55:45-04:00   275.059998   187.0          0.0   \n",
       "136507 2011-05-24 15:56:03-04:00   273.489990   187.0          1.0   \n",
       "136508 2011-05-24 15:56:06-04:00   273.140015   188.0          0.0   \n",
       "136509 2011-05-24 15:56:27-04:00   274.070007   190.0          0.0   \n",
       "136510 2011-05-24 15:56:30-04:00   274.750000   189.0          0.0   \n",
       "\n",
       "        washer dryer  sockets  light  \n",
       "0                0.0     33.0   81.0  \n",
       "1                0.0     34.0   81.0  \n",
       "2                0.0     39.0   82.0  \n",
       "3                0.0     34.0   81.0  \n",
       "4                0.0     38.0   82.0  \n",
       "...              ...      ...    ...  \n",
       "136506           0.0     24.0    2.0  \n",
       "136507           0.0     26.0    2.0  \n",
       "136508           0.0     24.0    2.0  \n",
       "136509           0.0     24.0    2.0  \n",
       "136510           0.0     24.0    2.0  \n",
       "\n",
       "[136511 rows x 7 columns]"
      ]
     },
     "execution_count": 3,
     "metadata": {},
     "output_type": "execute_result"
    }
   ],
   "source": [
    "dict = {}\n",
    "appliances = ['fridge', 'dish washer', 'washer dryer', 'sockets', 'light']\n",
    "for i in appliances:\n",
    "        dict[i] = building.elec[i].power_series_all_data().to_frame(name=i)\n",
    "\n",
    "main_df = main_meter.power_series_all_data().to_frame(name='total_power')\n",
    "\n",
    "dict_dfs = list(dict.values())\n",
    "\n",
    "# Concatenate all DataFrames into one\n",
    "df = pd.concat([main_df] + dict_dfs, axis=1)\n",
    "\n",
    "df = df.dropna()\n",
    "df.reset_index(inplace=True)\n",
    "df"
   ]
  },
  {
   "cell_type": "code",
   "execution_count": 21,
   "metadata": {},
   "outputs": [],
   "source": [
    "# start_time = 97254 \n",
    "# end_time = 119582\n",
    "start_time = 0\n",
    "end_time = 130000\n",
    "\n",
    "subset_df = df.iloc[start_time:end_time].reset_index(drop=True)\n",
    "time = np.arange(start_time, end_time)"
   ]
  },
  {
   "cell_type": "code",
   "execution_count": 22,
   "metadata": {},
   "outputs": [
    {
     "name": "stderr",
     "output_type": "stream",
     "text": [
      "c:\\Users\\harsh\\anaconda3\\envs\\nilmtk-env\\lib\\site-packages\\IPython\\core\\pylabtools.py:152: UserWarning: Creating legend with loc=\"best\" can be slow with large amounts of data.\n",
      "  fig.canvas.print_figure(bytes_io, **kw)\n"
     ]
    },
    {
     "data": {
      "image/png": "[encoded data removed]",
      "text/plain": [
       "<Figure size 1000x600 with 1 Axes>"
      ]
     },
     "metadata": {},
     "output_type": "display_data"
    }
   ],
   "source": [
    "# Plot the data\n",
    "plt.figure(figsize=(10, 6))\n",
    "for app in appliances:\n",
    "    plt.plot(time, subset_df[app].to_numpy(), label=f\"{app}\")\n",
    "\n",
    "# Adding labels and title\n",
    "plt.xlabel('Time')\n",
    "plt.ylabel('Power Consumption')\n",
    "plt.title('Appliance Power Consumption Over Time')\n",
    "plt.legend()\n",
    "\n",
    "# Show the plot\n",
    "plt.show()"
   ]
  },
  {
   "cell_type": "code",
   "execution_count": 30,
   "metadata": {},
   "outputs": [
    {
     "data": {
      "text/plain": [
       "0         09:22\n",
       "1         09:22\n",
       "2         09:22\n",
       "3         09:22\n",
       "4         09:23\n",
       "          ...  \n",
       "129995    17:44\n",
       "129996    17:44\n",
       "129997    17:45\n",
       "129998    17:45\n",
       "129999    17:45\n",
       "Name: index, Length: 130000, dtype: object"
      ]
     },
     "execution_count": 30,
     "metadata": {},
     "output_type": "execute_result"
    }
   ],
   "source": [
    "series = pd.Series(subset_df['index'])\n",
    "# Function to extract HH:MM\n",
    "def extract_time(datetime_str):\n",
    "    return pd.to_datetime(datetime_str).strftime('%H:%M')\n",
    "\n",
    "\n",
    "# Apply the function to the Series\n",
    "time_series = series.apply(extract_time)\n",
    "time_series\n",
    "\n",
    "\n",
    "subset_df['timestamp'] = time_series\n",
    "result_df = subset_df.groupby('timestamp', as_index=False).mean()\n",
    "result_df"
   ]
  },
  {
   "cell_type": "code",
   "execution_count": 15,
   "metadata": {},
   "outputs": [],
   "source": [
    "# Run the loop\n",
    "data = []\n",
    "chunksize = 15\n",
    "for start in (range(0, len(result_df) - (chunksize), 15)):\n",
    "    current_chunk = result_df.iloc[start:start+chunksize]\n",
    "    input_string = current_chunk[['timestamp', 'total_power']].to_csv(index=False, header=False)\n",
    "    input_string = input_string.replace(\" \", \"\").replace('\\n', ',').replace(',', ' , ').replace('\\r','')\n",
    "    gpt_string = current_chunk[['timestamp', 'total_power','fridge','dish washer','washer dryer','sockets','light']].to_csv(index=False, header=False)\n",
    "    gpt_string = gpt_string.replace(\" \", \"\").replace('\\n', ',').replace(',', ' , ').replace('\\r','')\n",
    "    data.append([ { \"from\": \"human\", \"value\": input_string }, { \"from\": \"gpt\", \"value\": gpt_string } ])\n",
    "    "
   ]
  },
  {
   "cell_type": "code",
   "execution_count": 16,
   "metadata": {},
   "outputs": [
    {
     "data": {
      "text/plain": [
       "95"
      ]
     },
     "execution_count": 16,
     "metadata": {},
     "output_type": "execute_result"
    }
   ],
   "source": [
    "len(data)"
   ]
  },
  {
   "cell_type": "code",
   "execution_count": 24,
   "metadata": {},
   "outputs": [],
   "source": [
    "new_data = {\n",
    "    'conversation': data,\n",
    "}\n",
    "    "
   ]
  },
  {
   "cell_type": "code",
   "execution_count": 26,
   "metadata": {},
   "outputs": [
    {
     "name": "stdout",
     "output_type": "stream",
     "text": [
      "                                         conversation\n",
      "0   [{'from': 'human', 'value': '00:00 , 151.06999...\n",
      "1   [{'from': 'human', 'value': '00:15 , 152.42091...\n",
      "2   [{'from': 'human', 'value': '00:30 , 344.049 ,...\n",
      "3   [{'from': 'human', 'value': '00:45 , 151.649 ,...\n",
      "4   [{'from': 'human', 'value': '01:00 , 153.79819...\n",
      "..                                                ...\n",
      "90  [{'from': 'human', 'value': '22:30 , 254.10092...\n",
      "91  [{'from': 'human', 'value': '22:45 , 267.8578 ...\n",
      "92  [{'from': 'human', 'value': '23:00 , 143.50818...\n",
      "93  [{'from': 'human', 'value': '23:15 , 275.8218 ...\n",
      "94  [{'from': 'human', 'value': '23:30 , 259.60834...\n",
      "\n",
      "[95 rows x 1 columns]\n"
     ]
    }
   ],
   "source": [
    "redd_df = pd.DataFrame(new_data)\n",
    "print(redd_df)\n",
    "redd_df.to_parquet('data1.parquet', engine='pyarrow')"
   ]
  },
  {
   "cell_type": "code",
   "execution_count": null,
   "metadata": {},
   "outputs": [],
   "source": [
    "from datasets import load_dataset\n",
    "dataset = load_dataset(\"philschmid/guanaco-sharegpt-style\", split = \"train\")"
   ]
  }
 ],
 "metadata": {
  "kernelspec": {
   "display_name": "nilmtk-env",
   "language": "python",
   "name": "python3"
  },
  "language_info": {
   "codemirror_mode": {
    "name": "ipython",
    "version": 3
   },
   "file_extension": ".py",
   "mimetype": "text/x-python",
   "name": "python",
   "nbconvert_exporter": "python",
   "pygments_lexer": "ipython3",
   "version": "3.8.19"
  }
 },
 "nbformat": 4,
 "nbformat_minor": 2
}
